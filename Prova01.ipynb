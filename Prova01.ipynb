{
 "cells": [
  {
   "cell_type": "code",
   "execution_count": 24,
   "id": "d74b3d6b-3e61-40c9-b331-d1c00f688e31",
   "metadata": {},
   "outputs": [],
   "source": [
    "# Desenvolva um script em linguagem python nesta célula inicial para resolver o seguinte problema:\n",
    "\n",
    "# Implemente uma função que conte o número de elementos em uma lista encadeada. A função deve percorrer a lista e retornar o total de elementos.\n",
    "\n",
    "# ESPECIFICAÇÕES: Alista deve armazenar números inteiros. \n",
    "\n",
    "# Implemente uma função que percorra a lista e conta quantos elementos estão inseridos. \n",
    "\n",
    "# Leve em consideração a implementação fornecida a seguir.\n",
    "\n",
    "# Inserindo números na lista encadeada:\n",
    "# inserir(5)\n",
    "# inserir(15)\n",
    "# inserir(25)\n",
    "\n",
    "#Contando o número de elementos:\n",
    "# print(contar()) # Saída esperada: 3"
   ]
  },
  {
   "cell_type": "code",
   "execution_count": 26,
   "id": "449f54d4-cda3-4e56-848e-3071c71881b4",
   "metadata": {},
   "outputs": [
    {
     "name": "stdout",
     "output_type": "stream",
     "text": [
      "3\n"
     ]
    }
   ],
   "source": [
    "class No:\n",
    "    def __init__(self, valor):\n",
    "        self.valor = valor\n",
    "        self.proximo = None\n",
    "\n",
    "class ListaEncadeada:\n",
    "    def __init__(self):\n",
    "        self.inicio = None\n",
    "\n",
    "    def inserir(self, valor):\n",
    "        novo_no = No(valor)\n",
    "        if self.inicio is None:\n",
    "            self.inicio = novo_no\n",
    "        else:\n",
    "            atual = self.inicio\n",
    "            while atual.proximo:\n",
    "                atual = atual.proximo\n",
    "            atual.proximo = novo_no\n",
    "\n",
    "    def contar(self):\n",
    "\n",
    "        # DESENVOLVA ESSE MÉTODO (FUNCIONALIDADE)\n",
    "        # ELA DEVE SE INTEGRAR À IMPLEMENTAÇÃO DA CLASSE ACIMA \n",
    "        # E DEVE FUNCIONAR PARA O EXEMPLO DE ENTRADA E SAÍDA PROPOSTO\n",
    "\n",
    "        atual = self.inicio\n",
    "        contador = 0\n",
    "        while atual is not None:\n",
    "            contador += 1\n",
    "            atual = atual.proximo\n",
    "        return contador\n",
    "        \n",
    "lista = ListaEncadeada()\n",
    "lista.inserir(5)\n",
    "lista.inserir(15)\n",
    "lista.inserir(25)\n",
    "print(lista.contar())\n"
   ]
  },
  {
   "cell_type": "code",
   "execution_count": null,
   "id": "759454fe-0e99-4b16-993b-899db6820000",
   "metadata": {},
   "outputs": [],
   "source": []
  },
  {
   "cell_type": "code",
   "execution_count": null,
   "id": "04a2572a-b9f5-4c6b-bf18-41a61d1d1287",
   "metadata": {},
   "outputs": [],
   "source": []
  }
 ],
 "metadata": {
  "kernelspec": {
   "display_name": "Python 3 (ipykernel)",
   "language": "python",
   "name": "python3"
  },
  "language_info": {
   "codemirror_mode": {
    "name": "ipython",
    "version": 3
   },
   "file_extension": ".py",
   "mimetype": "text/x-python",
   "name": "python",
   "nbconvert_exporter": "python",
   "pygments_lexer": "ipython3",
   "version": "3.12.4"
  }
 },
 "nbformat": 4,
 "nbformat_minor": 5
}
